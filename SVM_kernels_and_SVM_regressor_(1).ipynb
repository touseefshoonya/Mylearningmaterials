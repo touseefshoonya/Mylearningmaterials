{
  "cells": [
    {
      "cell_type": "code",
      "execution_count": null,
      "id": "e5e7736b",
      "metadata": {
        "id": "e5e7736b"
      },
      "outputs": [],
      "source": [
        "import pandas as pd\n",
        "import numpy as np\n",
        "from sklearn.model_selection import train_test_split\n",
        "from sklearn.svm import SVC\n",
        "from mpl_toolkits import mplot3d\n",
        "from matplotlib.axes._axes import _log as matplotlib_axes_logger\n",
        "from matplotlib.colors import ListedColormap\n",
        "import matplotlib.pyplot as plt"
      ]
    },
    {
      "cell_type": "code",
      "execution_count": null,
      "id": "5196b258",
      "metadata": {
        "id": "5196b258"
      },
      "outputs": [],
      "source": [
        "from sklearn.datasets import make_circles"
      ]
    },
    {
      "cell_type": "code",
      "execution_count": null,
      "id": "598570be",
      "metadata": {
        "id": "598570be"
      },
      "outputs": [],
      "source": [
        "X,y=make_circles(100,factor=.1, noise=.1)"
      ]
    },
    {
      "cell_type": "code",
      "execution_count": null,
      "id": "9ec38c71",
      "metadata": {
        "id": "9ec38c71",
        "outputId": "7d2e2f85-8ca5-4590-ef03-5cd007bd399c"
      },
      "outputs": [
        {
          "data": {
            "text/plain": [
              "array([[ 0.83415943, -0.72715985],\n",
              "       [ 0.11294104, -1.05702898],\n",
              "       [-0.83574339, -0.48659019],\n",
              "       [ 0.89147458, -0.31052944],\n",
              "       [ 0.08438212, -0.10014012],\n",
              "       [-0.04912494, -0.09896521],\n",
              "       [-0.09666683, -0.21216787],\n",
              "       [-0.1513479 ,  0.01903939],\n",
              "       [-0.12385352, -0.08441151],\n",
              "       [ 0.01297958, -0.0868305 ],\n",
              "       [ 0.1986354 ,  0.06218135],\n",
              "       [-0.02062581,  1.06568499],\n",
              "       [-0.01839684,  0.09681992],\n",
              "       [-0.67134451,  0.67107026],\n",
              "       [-0.69993113,  0.86585026],\n",
              "       [-0.15111069, -0.00315305],\n",
              "       [-0.88946254,  0.46672664],\n",
              "       [ 0.47105993,  1.0391611 ],\n",
              "       [-0.09431662, -0.0796754 ],\n",
              "       [ 0.27972696,  0.90827254],\n",
              "       [-0.07203648, -0.17609673],\n",
              "       [-0.81115634, -0.5346565 ],\n",
              "       [ 0.09002971,  0.02992106],\n",
              "       [ 0.12084684,  0.18423425],\n",
              "       [-0.08457527,  0.02794498],\n",
              "       [-0.02948723,  0.02282893],\n",
              "       [-0.2492089 , -0.89194153],\n",
              "       [ 0.59374267, -0.94100513],\n",
              "       [-0.94939233,  0.02547878],\n",
              "       [ 0.09763173, -0.1208398 ],\n",
              "       [ 0.67127198, -0.79510849],\n",
              "       [-0.08137635, -0.0920108 ],\n",
              "       [ 0.397212  ,  0.89032891],\n",
              "       [ 0.04435047,  0.08580827],\n",
              "       [ 0.04702463,  0.25541651],\n",
              "       [ 0.9484426 ,  0.33011613],\n",
              "       [-0.14535752, -0.27311872],\n",
              "       [-0.19930886, -0.17673967],\n",
              "       [-1.1989807 , -0.15382221],\n",
              "       [-0.81537504,  0.58671241],\n",
              "       [-0.03005668, -0.02234878],\n",
              "       [-0.00939235, -0.17165496],\n",
              "       [ 1.04629435, -0.06037766],\n",
              "       [ 0.00895895,  0.09125326],\n",
              "       [ 1.23120877,  0.19906412],\n",
              "       [ 0.49847244, -0.9533078 ],\n",
              "       [-0.30094504, -0.94894078],\n",
              "       [ 0.09138085, -0.12267917],\n",
              "       [ 0.0648883 ,  0.01030736],\n",
              "       [-0.07716938, -0.10990496],\n",
              "       [ 0.06897702,  0.04475493],\n",
              "       [ 0.25987016, -1.12896158],\n",
              "       [ 0.06596155, -0.17056076],\n",
              "       [-0.26750618,  0.11985799],\n",
              "       [-0.00141983, -0.10023194],\n",
              "       [ 0.74722732,  0.49923354],\n",
              "       [-1.02007576, -0.32077581],\n",
              "       [ 0.85069507, -0.22416181],\n",
              "       [ 0.9942174 ,  0.46993312],\n",
              "       [-0.37132279,  1.0368693 ],\n",
              "       [ 0.07223752,  0.2696661 ],\n",
              "       [-0.01687207,  0.04617805],\n",
              "       [-1.01183995,  0.15243064],\n",
              "       [ 0.63496281,  0.59235365],\n",
              "       [-0.12220956, -0.04732399],\n",
              "       [-0.10076683, -1.01841669],\n",
              "       [-0.05134205,  0.12771436],\n",
              "       [ 0.81406501, -0.37752035],\n",
              "       [-0.63858889, -0.9418477 ],\n",
              "       [-0.76266123,  0.26424528],\n",
              "       [-0.32592667,  1.08838619],\n",
              "       [ 0.12897336,  1.09939455],\n",
              "       [ 0.58093242,  0.70243561],\n",
              "       [ 0.08670225, -0.98127227],\n",
              "       [ 0.00605018,  0.06281874],\n",
              "       [-0.1646572 ,  0.04962424],\n",
              "       [ 0.1757889 ,  0.18082746],\n",
              "       [-0.09770083,  0.02403561],\n",
              "       [-0.49400498, -0.61321476],\n",
              "       [-0.04518851,  0.14978373],\n",
              "       [ 0.13151017,  0.16685807],\n",
              "       [-0.84991583,  0.48920535],\n",
              "       [-0.00152886, -0.11911182],\n",
              "       [ 0.9415767 , -0.26934186],\n",
              "       [ 0.10294348,  0.03034121],\n",
              "       [ 0.68267556, -0.69324868],\n",
              "       [-0.85207983, -0.52112909],\n",
              "       [ 0.18493847,  0.07137234],\n",
              "       [ 0.01943207, -0.0773772 ],\n",
              "       [-0.51598514, -1.03588707],\n",
              "       [-0.1338523 ,  0.0122038 ],\n",
              "       [-0.4859815 ,  0.92071512],\n",
              "       [-0.79417723, -0.62668671],\n",
              "       [ 1.05181132,  0.12665421],\n",
              "       [-0.12455311,  0.11241057],\n",
              "       [ 0.0680978 , -0.29398612],\n",
              "       [ 0.06476091,  0.10115978],\n",
              "       [-0.63841046,  0.55925665],\n",
              "       [ 0.31401633,  0.96124978],\n",
              "       [ 0.05687318,  0.05178834]])"
            ]
          },
          "execution_count": 7,
          "metadata": {},
          "output_type": "execute_result"
        }
      ],
      "source": [
        "X"
      ]
    },
    {
      "cell_type": "code",
      "execution_count": null,
      "id": "73c6bd0e",
      "metadata": {
        "id": "73c6bd0e",
        "outputId": "28854930-5ff2-48bb-9244-09f758e75508"
      },
      "outputs": [
        {
          "data": {
            "text/plain": [
              "array([0, 0, 0, 0, 1, 1, 1, 1, 1, 1, 1, 0, 1, 0, 0, 1, 0, 0, 1, 0, 1, 0,\n",
              "       1, 1, 1, 1, 0, 0, 0, 1, 0, 1, 0, 1, 1, 0, 1, 1, 0, 0, 1, 1, 0, 1,\n",
              "       0, 0, 0, 1, 1, 1, 1, 0, 1, 1, 1, 0, 0, 0, 0, 0, 1, 1, 0, 0, 1, 0,\n",
              "       1, 0, 0, 0, 0, 0, 0, 0, 1, 1, 1, 1, 0, 1, 1, 0, 1, 0, 1, 0, 0, 1,\n",
              "       1, 0, 1, 0, 0, 0, 1, 1, 1, 0, 0, 1], dtype=int64)"
            ]
          },
          "execution_count": 8,
          "metadata": {},
          "output_type": "execute_result"
        }
      ],
      "source": [
        "y"
      ]
    },
    {
      "cell_type": "code",
      "execution_count": null,
      "id": "c97dce2f",
      "metadata": {
        "id": "c97dce2f",
        "outputId": "9f96ab22-54f4-4eb8-e38d-0f4b2e5421c6"
      },
      "outputs": [
        {
          "data": {
            "text/plain": [
              "<matplotlib.collections.PathCollection at 0x2577d32f760>"
            ]
          },
          "execution_count": 11,
          "metadata": {},
          "output_type": "execute_result"
        },
        {
          "data": {
            "image/png": "[encoded data removed]",
            "text/plain": [
              "<Figure size 432x288 with 1 Axes>"
            ]
          },
          "metadata": {
            "needs_background": "light"
          },
          "output_type": "display_data"
        }
      ],
      "source": [
        "plt.scatter(X[:,0],X[:,1],c=y,s=50,cmap='bwr')"
      ]
    },
    {
      "cell_type": "code",
      "execution_count": null,
      "id": "d7c6f2e9",
      "metadata": {
        "id": "d7c6f2e9"
      },
      "outputs": [],
      "source": [
        "X_train,X_test,y_train,y_test=train_test_split(X,y,test_size=0.20)"
      ]
    },
    {
      "cell_type": "code",
      "execution_count": null,
      "id": "b11d4e8e",
      "metadata": {
        "id": "b11d4e8e",
        "outputId": "bd5a3117-41f1-416f-9545-61c161ce6b87"
      },
      "outputs": [
        {
          "data": {
            "text/plain": [
              "array([[-0.05134205,  0.12771436],\n",
              "       [ 0.11294104, -1.05702898],\n",
              "       [ 0.08438212, -0.10014012],\n",
              "       [-0.51598514, -1.03588707],\n",
              "       [ 1.23120877,  0.19906412],\n",
              "       [ 0.68267556, -0.69324868],\n",
              "       [-0.00152886, -0.11911182],\n",
              "       [-1.01183995,  0.15243064],\n",
              "       [-0.26750618,  0.11985799],\n",
              "       [ 0.00605018,  0.06281874],\n",
              "       [-0.08457527,  0.02794498],\n",
              "       [-0.67134451,  0.67107026],\n",
              "       [ 0.58093242,  0.70243561],\n",
              "       [-0.03005668, -0.02234878],\n",
              "       [-0.79417723, -0.62668671],\n",
              "       [-0.1646572 ,  0.04962424],\n",
              "       [ 0.08670225, -0.98127227],\n",
              "       [ 0.09002971,  0.02992106],\n",
              "       [ 0.31401633,  0.96124978],\n",
              "       [ 0.89147458, -0.31052944],\n",
              "       [ 0.74722732,  0.49923354],\n",
              "       [-0.15111069, -0.00315305],\n",
              "       [-0.09431662, -0.0796754 ],\n",
              "       [ 0.06596155, -0.17056076],\n",
              "       [-0.63841046,  0.55925665],\n",
              "       [ 0.1757889 ,  0.18082746],\n",
              "       [ 0.63496281,  0.59235365],\n",
              "       [-0.4859815 ,  0.92071512],\n",
              "       [-0.81537504,  0.58671241],\n",
              "       [-0.09770083,  0.02403561],\n",
              "       [-0.76266123,  0.26424528],\n",
              "       [-0.94939233,  0.02547878],\n",
              "       [-0.08137635, -0.0920108 ],\n",
              "       [ 0.18493847,  0.07137234],\n",
              "       [-0.30094504, -0.94894078],\n",
              "       [-0.09666683, -0.21216787],\n",
              "       [ 1.05181132,  0.12665421],\n",
              "       [ 0.04702463,  0.25541651],\n",
              "       [ 0.9942174 ,  0.46993312],\n",
              "       [ 0.12084684,  0.18423425],\n",
              "       [-0.63858889, -0.9418477 ],\n",
              "       [-0.12455311,  0.11241057],\n",
              "       [ 0.06476091,  0.10115978],\n",
              "       [-0.00939235, -0.17165496],\n",
              "       [ 0.83415943, -0.72715985],\n",
              "       [-0.85207983, -0.52112909],\n",
              "       [ 0.01943207, -0.0773772 ],\n",
              "       [ 0.9484426 ,  0.33011613],\n",
              "       [-0.1338523 ,  0.0122038 ],\n",
              "       [-0.84991583,  0.48920535],\n",
              "       [-0.81115634, -0.5346565 ],\n",
              "       [-0.1513479 ,  0.01903939],\n",
              "       [-0.01687207,  0.04617805],\n",
              "       [-0.19930886, -0.17673967],\n",
              "       [ 0.00895895,  0.09125326],\n",
              "       [ 0.06897702,  0.04475493],\n",
              "       [ 0.49847244, -0.9533078 ],\n",
              "       [-0.02948723,  0.02282893],\n",
              "       [ 1.04629435, -0.06037766],\n",
              "       [ 0.85069507, -0.22416181],\n",
              "       [ 0.59374267, -0.94100513],\n",
              "       [ 0.0680978 , -0.29398612],\n",
              "       [ 0.27972696,  0.90827254],\n",
              "       [-1.1989807 , -0.15382221],\n",
              "       [-0.10076683, -1.01841669],\n",
              "       [-0.12220956, -0.04732399],\n",
              "       [ 0.67127198, -0.79510849],\n",
              "       [ 0.01297958, -0.0868305 ],\n",
              "       [-0.07716938, -0.10990496],\n",
              "       [-0.12385352, -0.08441151],\n",
              "       [ 0.81406501, -0.37752035],\n",
              "       [-0.00141983, -0.10023194],\n",
              "       [-0.37132279,  1.0368693 ],\n",
              "       [ 0.397212  ,  0.89032891],\n",
              "       [-0.49400498, -0.61321476],\n",
              "       [-1.02007576, -0.32077581],\n",
              "       [-0.04518851,  0.14978373],\n",
              "       [ 0.13151017,  0.16685807],\n",
              "       [-0.32592667,  1.08838619],\n",
              "       [ 0.1986354 ,  0.06218135]])"
            ]
          },
          "execution_count": 13,
          "metadata": {},
          "output_type": "execute_result"
        }
      ],
      "source": [
        "X_train"
      ]
    },
    {
      "cell_type": "code",
      "execution_count": null,
      "id": "0eaf5c1f",
      "metadata": {
        "id": "0eaf5c1f"
      },
      "outputs": [],
      "source": [
        "classifier=SVC(kernel=\"linear\")"
      ]
    },
    {
      "cell_type": "code",
      "execution_count": null,
      "id": "ab03a30e",
      "metadata": {
        "id": "ab03a30e",
        "outputId": "be74e9ac-a008-4fe0-bcde-036b9bc4bd6a"
      },
      "outputs": [
        {
          "data": {
            "text/plain": [
              "SVC(kernel='linear')"
            ]
          },
          "execution_count": 16,
          "metadata": {},
          "output_type": "execute_result"
        }
      ],
      "source": [
        "classifier.fit(X_train,y_train)"
      ]
    },
    {
      "cell_type": "code",
      "execution_count": null,
      "id": "d99d94ad",
      "metadata": {
        "id": "d99d94ad"
      },
      "outputs": [],
      "source": [
        "y_pred=classifier.predict(X_test)"
      ]
    },
    {
      "cell_type": "code",
      "execution_count": null,
      "id": "98c89143",
      "metadata": {
        "id": "98c89143",
        "outputId": "6be6320d-8e80-4d2c-accc-5ae11e6bd874"
      },
      "outputs": [
        {
          "data": {
            "text/plain": [
              "array([1, 0, 1, 0, 1, 0, 0, 0, 0, 0, 0, 0, 0, 0, 0, 0, 0, 1, 1, 0],\n",
              "      dtype=int64)"
            ]
          },
          "execution_count": 20,
          "metadata": {},
          "output_type": "execute_result"
        }
      ],
      "source": [
        "## this is a predicted value\n",
        "y_pred"
      ]
    },
    {
      "cell_type": "code",
      "execution_count": null,
      "id": "67d82d30",
      "metadata": {
        "id": "67d82d30",
        "outputId": "0c790b46-c25e-4437-974f-afe370a12a44"
      },
      "outputs": [
        {
          "data": {
            "text/plain": [
              "array([0, 1, 0, 1, 0, 1, 1, 0, 1, 1, 0, 1, 0, 1, 1, 1, 0, 0, 0, 1],\n",
              "      dtype=int64)"
            ]
          },
          "execution_count": 21,
          "metadata": {},
          "output_type": "execute_result"
        }
      ],
      "source": [
        "##it is actual value\n",
        "y_test"
      ]
    },
    {
      "cell_type": "code",
      "execution_count": null,
      "id": "297f3a86",
      "metadata": {
        "id": "297f3a86"
      },
      "outputs": [],
      "source": [
        "from sklearn.metrics import accuracy_score"
      ]
    },
    {
      "cell_type": "code",
      "execution_count": null,
      "id": "55419053",
      "metadata": {
        "id": "55419053",
        "outputId": "68372cc4-f53a-4d1c-8394-ba0be7b9241d"
      },
      "outputs": [
        {
          "data": {
            "text/plain": [
              "0.2"
            ]
          },
          "execution_count": 19,
          "metadata": {},
          "output_type": "execute_result"
        }
      ],
      "source": [
        "accuracy_score(y_test,y_pred)"
      ]
    },
    {
      "cell_type": "code",
      "execution_count": null,
      "id": "4e43650e",
      "metadata": {
        "id": "4e43650e"
      },
      "outputs": [],
      "source": [
        "classifier2=SVC(kernel=\"rbf\")"
      ]
    },
    {
      "cell_type": "code",
      "execution_count": null,
      "id": "fc439cd2",
      "metadata": {
        "id": "fc439cd2",
        "outputId": "cf9cd1b6-0d68-44a3-f12d-1da9995e875e"
      },
      "outputs": [
        {
          "data": {
            "text/plain": [
              "SVC()"
            ]
          },
          "execution_count": 23,
          "metadata": {},
          "output_type": "execute_result"
        }
      ],
      "source": [
        "classifier2.fit(X_train,y_train)"
      ]
    },
    {
      "cell_type": "code",
      "execution_count": null,
      "id": "234cb6b5",
      "metadata": {
        "id": "234cb6b5"
      },
      "outputs": [],
      "source": [
        "y_pred2=classifier2.predict(X_test)"
      ]
    },
    {
      "cell_type": "code",
      "execution_count": null,
      "id": "d4528f41",
      "metadata": {
        "id": "d4528f41",
        "outputId": "e3f8f1c2-0c04-443c-ea47-e35a87b8394b"
      },
      "outputs": [
        {
          "data": {
            "text/plain": [
              "1.0"
            ]
          },
          "execution_count": 25,
          "metadata": {},
          "output_type": "execute_result"
        }
      ],
      "source": [
        "accuracy_score(y_test,y_pred2)"
      ]
    },
    {
      "cell_type": "code",
      "execution_count": null,
      "id": "4f3a6575",
      "metadata": {
        "id": "4f3a6575",
        "outputId": "c72218c0-715a-43fb-ebfd-ffde0078e236"
      },
      "outputs": [
        {
          "data": {
            "text/plain": [
              "array([0, 1, 0, 1, 0, 1, 1, 0, 1, 1, 0, 1, 0, 1, 1, 1, 0, 0, 0, 1],\n",
              "      dtype=int64)"
            ]
          },
          "execution_count": 26,
          "metadata": {},
          "output_type": "execute_result"
        }
      ],
      "source": [
        "# this is my actual value\n",
        "y_test"
      ]
    },
    {
      "cell_type": "code",
      "execution_count": null,
      "id": "8d2d999c",
      "metadata": {
        "id": "8d2d999c",
        "outputId": "eddea6ad-f8e5-4dbc-bd23-27764161b0cb"
      },
      "outputs": [
        {
          "data": {
            "text/plain": [
              "array([0, 1, 0, 1, 0, 1, 1, 0, 1, 1, 0, 1, 0, 1, 1, 1, 0, 0, 0, 1],\n",
              "      dtype=int64)"
            ]
          },
          "execution_count": 28,
          "metadata": {},
          "output_type": "execute_result"
        }
      ],
      "source": [
        "#this is my second predited value\n",
        "y_pred2"
      ]
    },
    {
      "cell_type": "code",
      "execution_count": null,
      "id": "729134c4",
      "metadata": {
        "id": "729134c4"
      },
      "outputs": [],
      "source": [
        "classifier3=SVC(kernel=\"poly\")"
      ]
    },
    {
      "cell_type": "code",
      "execution_count": null,
      "id": "91b4f1ca",
      "metadata": {
        "id": "91b4f1ca",
        "outputId": "c320c673-90df-4313-aa3e-2d7f33afad0b"
      },
      "outputs": [
        {
          "data": {
            "text/plain": [
              "SVC(kernel='poly')"
            ]
          },
          "execution_count": 30,
          "metadata": {},
          "output_type": "execute_result"
        }
      ],
      "source": [
        "classifier3.fit(X_train,y_train)"
      ]
    },
    {
      "cell_type": "code",
      "execution_count": null,
      "id": "73d8a67b",
      "metadata": {
        "id": "73d8a67b"
      },
      "outputs": [],
      "source": [
        "y_pred3=classifier3.predict(X_test)"
      ]
    },
    {
      "cell_type": "code",
      "execution_count": null,
      "id": "06b35d32",
      "metadata": {
        "id": "06b35d32",
        "outputId": "f912c809-76d2-4201-b807-f68e469e8282"
      },
      "outputs": [
        {
          "data": {
            "text/plain": [
              "0.7"
            ]
          },
          "execution_count": 32,
          "metadata": {},
          "output_type": "execute_result"
        }
      ],
      "source": [
        "accuracy_score(y_test,y_pred3)"
      ]
    },
    {
      "cell_type": "code",
      "execution_count": null,
      "id": "1db70a03",
      "metadata": {
        "id": "1db70a03"
      },
      "outputs": [],
      "source": [
        "classifier4=SVC(kernel=\"poly\",degree=2)"
      ]
    },
    {
      "cell_type": "code",
      "execution_count": null,
      "id": "23b87d3b",
      "metadata": {
        "id": "23b87d3b",
        "outputId": "983ec7b1-ba1e-4377-b566-701fd1aba6b7"
      },
      "outputs": [
        {
          "data": {
            "text/plain": [
              "SVC(degree=2, kernel='poly')"
            ]
          },
          "execution_count": 34,
          "metadata": {},
          "output_type": "execute_result"
        }
      ],
      "source": [
        "classifier4.fit(X_train,y_train)"
      ]
    },
    {
      "cell_type": "code",
      "execution_count": null,
      "id": "73826e29",
      "metadata": {
        "id": "73826e29"
      },
      "outputs": [],
      "source": [
        "y_pred4=classifier4.predict(X_test)"
      ]
    },
    {
      "cell_type": "code",
      "execution_count": null,
      "id": "b440afb6",
      "metadata": {
        "id": "b440afb6",
        "outputId": "e9a89a31-f23c-43ab-dd87-0c199f6edbcb"
      },
      "outputs": [
        {
          "data": {
            "text/plain": [
              "1.0"
            ]
          },
          "execution_count": 36,
          "metadata": {},
          "output_type": "execute_result"
        }
      ],
      "source": [
        "accuracy_score(y_test,y_pred4)"
      ]
    },
    {
      "cell_type": "code",
      "execution_count": null,
      "id": "d483a5ea",
      "metadata": {
        "id": "d483a5ea"
      },
      "outputs": [],
      "source": [
        "#decision boundry\n",
        "\n",
        "zero_one_colourmap = ListedColormap(('blue', 'red'))\n",
        "\n",
        "def plot_decision_boundary(X, y, clf):\n",
        "    X_set, y_set = X, y\n",
        "    X1, X2 = np.meshgrid(np.arange(start = X_set[:, 0].min() - 1,\n",
        "                                 stop = X_set[:, 0].max() + 1,\n",
        "                                 step = 0.01),\n",
        "                       np.arange(start = X_set[:, 1].min() - 1,\n",
        "                                 stop = X_set[:, 1].max() + 1,\n",
        "                                 step = 0.01))\n",
        "\n",
        "    plt.contourf(X1, X2, clf.predict(np.array([X1.ravel(),\n",
        "                                             X2.ravel()]).T).reshape(X1.shape),\n",
        "               alpha = 0.75,\n",
        "               cmap = zero_one_colourmap)\n",
        "    plt.xlim(X1.min(), X1.max())\n",
        "    plt.ylim(X2.min(), X2.max())\n",
        "\n",
        "\n",
        "    for i, j in enumerate(np.unique(y_set)):\n",
        "        plt.scatter(X_set[y_set == j, 0], X_set[y_set == j, 1],\n",
        "                c = (zero_one_colourmap)(i), label = j)\n",
        "    plt.title('SVM Decision Boundary')\n",
        "    plt.xlabel('X1')\n",
        "    plt.ylabel('X2')\n",
        "    plt.legend()\n",
        "    return plt.show()"
      ]
    },
    {
      "cell_type": "code",
      "execution_count": null,
      "id": "6b975e49",
      "metadata": {
        "id": "6b975e49",
        "outputId": "fd6565ef-8b42-47f7-b2a9-de9db5265842"
      },
      "outputs": [
        {
          "name": "stderr",
          "output_type": "stream",
          "text": [
            "*c* argument looks like a single numeric RGB or RGBA sequence, which should be avoided as value-mapping will have precedence in case its length matches with *x* & *y*.  Please use the *color* keyword-argument or provide a 2D array with a single row if you intend to specify the same RGB or RGBA value for all points.\n",
            "*c* argument looks like a single numeric RGB or RGBA sequence, which should be avoided as value-mapping will have precedence in case its length matches with *x* & *y*.  Please use the *color* keyword-argument or provide a 2D array with a single row if you intend to specify the same RGB or RGBA value for all points.\n"
          ]
        },
        {
          "data": {
            "image/png": "[encoded data removed]",
            "text/plain": [
              "<Figure size 432x288 with 1 Axes>"
            ]
          },
          "metadata": {
            "needs_background": "light"
          },
          "output_type": "display_data"
        }
      ],
      "source": [
        "plot_decision_boundary(X,y,classifier)"
      ]
    },
    {
      "cell_type": "code",
      "execution_count": null,
      "id": "fccf1706",
      "metadata": {
        "id": "fccf1706",
        "outputId": "adbc2fed-5479-4811-fe1d-131e01df8c86"
      },
      "outputs": [
        {
          "name": "stderr",
          "output_type": "stream",
          "text": [
            "*c* argument looks like a single numeric RGB or RGBA sequence, which should be avoided as value-mapping will have precedence in case its length matches with *x* & *y*.  Please use the *color* keyword-argument or provide a 2D array with a single row if you intend to specify the same RGB or RGBA value for all points.\n",
            "*c* argument looks like a single numeric RGB or RGBA sequence, which should be avoided as value-mapping will have precedence in case its length matches with *x* & *y*.  Please use the *color* keyword-argument or provide a 2D array with a single row if you intend to specify the same RGB or RGBA value for all points.\n"
          ]
        },
        {
          "data": {
            "image/png": "[encoded data removed]",
            "text/plain": [
              "<Figure size 432x288 with 1 Axes>"
            ]
          },
          "metadata": {
            "needs_background": "light"
          },
          "output_type": "display_data"
        }
      ],
      "source": [
        "plot_decision_boundary(X,y,classifier2)"
      ]
    },
    {
      "cell_type": "code",
      "execution_count": null,
      "id": "2a23aa7d",
      "metadata": {
        "id": "2a23aa7d",
        "outputId": "2e1561df-5670-454e-d84c-458b761a8722"
      },
      "outputs": [
        {
          "name": "stderr",
          "output_type": "stream",
          "text": [
            "*c* argument looks like a single numeric RGB or RGBA sequence, which should be avoided as value-mapping will have precedence in case its length matches with *x* & *y*.  Please use the *color* keyword-argument or provide a 2D array with a single row if you intend to specify the same RGB or RGBA value for all points.\n",
            "*c* argument looks like a single numeric RGB or RGBA sequence, which should be avoided as value-mapping will have precedence in case its length matches with *x* & *y*.  Please use the *color* keyword-argument or provide a 2D array with a single row if you intend to specify the same RGB or RGBA value for all points.\n"
          ]
        },
        {
          "data": {
            "image/png": "[encoded data removed]",
            "text/plain": [
              "<Figure size 432x288 with 1 Axes>"
            ]
          },
          "metadata": {
            "needs_background": "light"
          },
          "output_type": "display_data"
        }
      ],
      "source": [
        "plot_decision_boundary(X,y,classifier3)"
      ]
    },
    {
      "cell_type": "code",
      "execution_count": null,
      "id": "7b91913c",
      "metadata": {
        "id": "7b91913c",
        "outputId": "76bee47b-a64a-406a-8c19-22cb6cf006a2"
      },
      "outputs": [
        {
          "name": "stderr",
          "output_type": "stream",
          "text": [
            "*c* argument looks like a single numeric RGB or RGBA sequence, which should be avoided as value-mapping will have precedence in case its length matches with *x* & *y*.  Please use the *color* keyword-argument or provide a 2D array with a single row if you intend to specify the same RGB or RGBA value for all points.\n",
            "*c* argument looks like a single numeric RGB or RGBA sequence, which should be avoided as value-mapping will have precedence in case its length matches with *x* & *y*.  Please use the *color* keyword-argument or provide a 2D array with a single row if you intend to specify the same RGB or RGBA value for all points.\n"
          ]
        },
        {
          "data": {
            "image/png": "[encoded data removed]",
            "text/plain": [
              "<Figure size 432x288 with 1 Axes>"
            ]
          },
          "metadata": {
            "needs_background": "light"
          },
          "output_type": "display_data"
        }
      ],
      "source": [
        "plot_decision_boundary(X,y,classifier4)"
      ]
    },
    {
      "cell_type": "code",
      "execution_count": null,
      "id": "4ed164c0",
      "metadata": {
        "id": "4ed164c0"
      },
      "outputs": [],
      "source": [
        "def plot_3d_plot(X,y):\n",
        "    r=np.exp(-(X**2).sum(1))\n",
        "    ax = plt.subplot(projection='3d')\n",
        "    ax.scatter3D(X[:, 0], X[:, 1], r, c=y, s=100, cmap='bwr')\n",
        "    ax.set_xlabel('X1')\n",
        "    ax.set_ylabel('X2')\n",
        "    ax.set_zlabel('y')\n",
        "    return ax\n",
        ""
      ]
    },
    {
      "cell_type": "code",
      "execution_count": null,
      "id": "d8d88313",
      "metadata": {
        "id": "d8d88313",
        "outputId": "fb124c5d-2c7b-49d0-fb78-8428aa8bdd5d"
      },
      "outputs": [
        {
          "data": {
            "text/plain": [
              "<Axes3DSubplot:xlabel='X1', ylabel='X2'>"
            ]
          },
          "execution_count": 45,
          "metadata": {},
          "output_type": "execute_result"
        },
        {
          "data": {
            "image/png": "[encoded data removed]",
            "text/plain": [
              "<Figure size 432x288 with 1 Axes>"
            ]
          },
          "metadata": {
            "needs_background": "light"
          },
          "output_type": "display_data"
        }
      ],
      "source": [
        "plot_3d_plot(X,y)"
      ]
    },
    {
      "cell_type": "markdown",
      "id": "08de8514",
      "metadata": {
        "id": "08de8514"
      },
      "source": [
        "## Advanatge:\n",
        "    \n",
        "1.it is effective in high - dimesnsion\n",
        "\n",
        "it is effective for the non linear seprable data\n",
        "\n",
        "will you logistic regression or svm for your data classifcaiotn?\n",
        "\n",
        "logistic regssion it is just for the linear seprable data.\n",
        "\n",
        "2. robust for the overfitting(genralize)\n",
        "\n",
        "3. it is roubst for the outlier\n",
        "\n",
        "4. versatile kernels"
      ]
    },
    {
      "cell_type": "markdown",
      "id": "506b30f4",
      "metadata": {
        "id": "506b30f4"
      },
      "source": [
        "## disadvantage\n",
        "\n",
        "1. computational complex\n",
        "2. memory intensive\n",
        "3. parameter sentisitive(c)\n",
        "\n",
        "in svr by epslon\n",
        "\n"
      ]
    },
    {
      "cell_type": "code",
      "execution_count": null,
      "id": "a9c8ce9b",
      "metadata": {
        "id": "a9c8ce9b"
      },
      "outputs": [],
      "source": []
    }
  ],
  "metadata": {
    "kernelspec": {
      "display_name": "Python 3 (ipykernel)",
      "language": "python",
      "name": "python3"
    },
    "language_info": {
      "codemirror_mode": {
        "name": "ipython",
        "version": 3
      },
      "file_extension": ".py",
      "mimetype": "text/x-python",
      "name": "python",
      "nbconvert_exporter": "python",
      "pygments_lexer": "ipython3",
      "version": "3.9.7"
    },
    "colab": {
      "provenance": []
    }
  },
  "nbformat": 4,
  "nbformat_minor": 5
}